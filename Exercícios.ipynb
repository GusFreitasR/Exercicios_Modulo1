{
  "nbformat": 4,
  "nbformat_minor": 0,
  "metadata": {
    "colab": {
      "provenance": []
    },
    "kernelspec": {
      "name": "python3",
      "display_name": "Python 3"
    },
    "language_info": {
      "name": "python"
    }
  },
  "cells": [
    {
      "cell_type": "markdown",
      "source": [
        "#Começando\n"
      ],
      "metadata": {
        "id": "csYkHapuD7tr"
      }
    },
    {
      "cell_type": "code",
      "execution_count": 2,
      "metadata": {
        "id": "0fMPNBULClMx"
      },
      "outputs": [],
      "source": [
        "import numpy as np\n",
        "import pandas as pd\n",
        "import matplotlib.pyplot as plt\n",
        "\n",
        "%matplotlib inline"
      ]
    },
    {
      "cell_type": "code",
      "source": [
        "sales = pd.read_csv(\n",
        "    'sales_data.csv',\n",
        "    parse_dates=['Date'])"
      ],
      "metadata": {
        "id": "SOWTFjcgEA6v"
      },
      "execution_count": 4,
      "outputs": []
    },
    {
      "cell_type": "code",
      "source": [
        "sales.head()"
      ],
      "metadata": {
        "id": "kFQynZQCECqK"
      },
      "execution_count": null,
      "outputs": []
    },
    {
      "cell_type": "markdown",
      "source": [
        "#Qual é a média da idade dos clientes?"
      ],
      "metadata": {
        "id": "o2BiRM4SEOG3"
      }
    },
    {
      "cell_type": "code",
      "source": [
        "sales['Customer_Age'].mean()"
      ],
      "metadata": {
        "id": "z3UILN1NEUMW"
      },
      "execution_count": null,
      "outputs": []
    },
    {
      "cell_type": "code",
      "source": [
        "sales['Customer_Age'].plot(kind='kde', figsize=(14,6))"
      ],
      "metadata": {
        "id": "bJ17UyiWEi0t"
      },
      "execution_count": null,
      "outputs": []
    },
    {
      "cell_type": "code",
      "source": [
        "sales['Customer_Age'].plot(kind='box', vert=False, figsize=(14,6))"
      ],
      "metadata": {
        "id": "rcY0L5PLElZ5"
      },
      "execution_count": null,
      "outputs": []
    },
    {
      "cell_type": "markdown",
      "source": [
        "#Qual é a média da quantidade de pedidos?"
      ],
      "metadata": {
        "id": "Q1kCY02REt-n"
      }
    },
    {
      "cell_type": "code",
      "source": [
        "sales['Order_Quantity'].mean()"
      ],
      "metadata": {
        "id": "41MQ7UArE_a_"
      },
      "execution_count": null,
      "outputs": []
    },
    {
      "cell_type": "code",
      "source": [
        "sales['Order_Quantity'].plot(kind='hist', bins=30, figsize=(14,6))"
      ],
      "metadata": {
        "id": "miyxfNtlE_pX"
      },
      "execution_count": null,
      "outputs": []
    },
    {
      "cell_type": "code",
      "source": [
        "sales['Order_Quantity'].plot(kind='box', vert=False, figsize=(14,6))"
      ],
      "metadata": {
        "id": "GhaWr5ffFAAH"
      },
      "execution_count": null,
      "outputs": []
    },
    {
      "cell_type": "markdown",
      "source": [
        "#Quantas compras temos por ano?\n"
      ],
      "metadata": {
        "id": "bn5J9HYeFFMf"
      }
    },
    {
      "cell_type": "code",
      "source": [
        "sales['Year'].value_counts()"
      ],
      "metadata": {
        "id": "9IiERw4iFH8C"
      },
      "execution_count": null,
      "outputs": []
    },
    {
      "cell_type": "code",
      "source": [
        "sales['Year'].value_counts().plot(kind='pie', figsize=(6,6))"
      ],
      "metadata": {
        "id": "UDb8Jg9FFKSz"
      },
      "execution_count": null,
      "outputs": []
    },
    {
      "cell_type": "markdown",
      "source": [
        "# E por mês?\n"
      ],
      "metadata": {
        "id": "bSzps4plFRtn"
      }
    },
    {
      "cell_type": "code",
      "source": [
        "sales['Month'].value_counts()"
      ],
      "metadata": {
        "id": "TRh5ooWiFTxU"
      },
      "execution_count": null,
      "outputs": []
    },
    {
      "cell_type": "code",
      "source": [
        "sales['Month'].value_counts().plot(kind='bar', figsize=(14,6))"
      ],
      "metadata": {
        "id": "_JF6IC0JFVIO"
      },
      "execution_count": null,
      "outputs": []
    },
    {
      "cell_type": "markdown",
      "source": [
        "#Qual o país que tem mais quantidades de vendas?"
      ],
      "metadata": {
        "id": "cXZiVdHFFa4V"
      }
    },
    {
      "cell_type": "code",
      "source": [
        "sales['Country'].value_counts().head(1)"
      ],
      "metadata": {
        "id": "cErmEnpbFg_4"
      },
      "execution_count": null,
      "outputs": []
    },
    {
      "cell_type": "code",
      "source": [
        "sales['Country'].value_counts()"
      ],
      "metadata": {
        "id": "IGY3_Lg1Fi1U"
      },
      "execution_count": null,
      "outputs": []
    },
    {
      "cell_type": "code",
      "source": [
        "sales['Country'].value_counts().plot(kind='bar', figsize=(14,6))"
      ],
      "metadata": {
        "id": "tQC2AqeeFiz1"
      },
      "execution_count": null,
      "outputs": []
    },
    {
      "cell_type": "markdown",
      "source": [
        "#Vamos criar uma lista com cada produto vendido"
      ],
      "metadata": {
        "id": "hbzcMrddFnJF"
      }
    },
    {
      "cell_type": "code",
      "source": [
        "sales['Product'].unique()"
      ],
      "metadata": {
        "id": "VbPI8kRmFqor"
      },
      "execution_count": null,
      "outputs": []
    },
    {
      "cell_type": "markdown",
      "source": [
        "Mostrando os best sellers"
      ],
      "metadata": {
        "id": "oc9L-SsJFs2b"
      }
    },
    {
      "cell_type": "code",
      "source": [
        "sales['Product'].value_counts().head(10).plot(kind='bar', figsize=(14,6))"
      ],
      "metadata": {
        "id": "DUu0vlisFt5u"
      },
      "execution_count": null,
      "outputs": []
    },
    {
      "cell_type": "markdown",
      "source": [
        "#Qual a relação entre unit_price e unit_cost?"
      ],
      "metadata": {
        "id": "OJFc7UdUFw5o"
      }
    },
    {
      "cell_type": "code",
      "source": [
        "sales.plot(kind='scatter', x='Unit_Cost', y='Unit_Price', figsize=(6,6))"
      ],
      "metadata": {
        "id": "6vM8FV3yF0q2"
      },
      "execution_count": null,
      "outputs": []
    },
    {
      "cell_type": "markdown",
      "source": [
        "#E a relação entre Order_quantity e price?"
      ],
      "metadata": {
        "id": "DfV-3WdmF7GO"
      }
    },
    {
      "cell_type": "code",
      "source": [
        "sales.plot(kind='scatter', x='Order_Quantity', y='Profit', figsize=(6,6))"
      ],
      "metadata": {
        "id": "KUEsLSzDF-qR"
      },
      "execution_count": null,
      "outputs": []
    },
    {
      "cell_type": "markdown",
      "source": [
        "#Temos alguma relação entre profit e country?"
      ],
      "metadata": {
        "id": "06Aq0S7OGAsO"
      }
    },
    {
      "cell_type": "code",
      "source": [
        "sales[['Profit', 'Country']].boxplot(by='Country', figsize=(10,6))"
      ],
      "metadata": {
        "id": "72YAymJqGDwU"
      },
      "execution_count": null,
      "outputs": []
    },
    {
      "cell_type": "markdown",
      "source": [
        "#Temos alguma relação entre Costumer_age e Country?"
      ],
      "metadata": {
        "id": "wLf8bBowGMR6"
      }
    },
    {
      "cell_type": "code",
      "source": [
        "sales[['Customer_Age', 'Country']].boxplot(by='Country', figsize=(10,6))"
      ],
      "metadata": {
        "id": "Bt9YoVo6GOrz"
      },
      "execution_count": null,
      "outputs": []
    },
    {
      "cell_type": "markdown",
      "source": [
        "# Vamos criar uma nova coluna com data"
      ],
      "metadata": {
        "id": "hqPPkWfKGPv3"
      }
    },
    {
      "cell_type": "markdown",
      "source": [
        "Vamos criar no formato DD-MM-YYYY"
      ],
      "metadata": {
        "id": "P06M5qsxGYVN"
      }
    },
    {
      "cell_type": "code",
      "source": [
        "sales['Calculated_Date'] = sales[['Day', 'Month', 'Year']].apply(lambda x: '{}-{}-{}'.format(x[0], x[1], x[2]), axis=1)\n",
        "\n",
        "sales['Calculated_Date'].head()"
      ],
      "metadata": {
        "id": "smfK0bWJGWS5"
      },
      "execution_count": null,
      "outputs": []
    },
    {
      "cell_type": "code",
      "source": [],
      "metadata": {
        "id": "n04X0POWHgl1"
      },
      "execution_count": null,
      "outputs": []
    },
    {
      "cell_type": "markdown",
      "source": [
        "#Vamos transformar nossa coluna em um objeto datetime"
      ],
      "metadata": {
        "id": "gtnrnLEJGi0t"
      }
    },
    {
      "cell_type": "code",
      "source": [
        "sales['Calculated_Date'] = pd.to_datetime(sales['Calculated_Date'])\n",
        "\n",
        "sales['Calculated_Date'].head()"
      ],
      "metadata": {
        "id": "qTA9-XMmGnSc"
      },
      "execution_count": null,
      "outputs": []
    },
    {
      "cell_type": "markdown",
      "source": [
        "#Como as vendas aumentaram durante os anos?"
      ],
      "metadata": {
        "id": "31ZkTk4cGwPR"
      }
    },
    {
      "cell_type": "code",
      "source": [
        "sales['Calculated_Date'].value_counts().plot(kind='line', figsize=(14,6))"
      ],
      "metadata": {
        "id": "9b4jdoUrGx5o"
      },
      "execution_count": null,
      "outputs": []
    },
    {
      "cell_type": "markdown",
      "source": [
        "#Vamos aumentar em 50 dolares cada venda"
      ],
      "metadata": {
        "id": "XroxPoTWG0C0"
      }
    },
    {
      "cell_type": "code",
      "source": [
        "sales['Revenue'] += 50"
      ],
      "metadata": {
        "id": "u0JfRV68G3Hd"
      },
      "execution_count": null,
      "outputs": []
    },
    {
      "cell_type": "markdown",
      "source": [
        "#Quantos pedidos foram feitos em Canada ou França?"
      ],
      "metadata": {
        "id": "D696Xfg0G5sC"
      }
    },
    {
      "cell_type": "code",
      "source": [
        "sales.loc[(sales['Country'] == 'Canada') | (sales['Country'] == 'France')].shape[0]"
      ],
      "metadata": {
        "id": "yiJV8iwhG_HS"
      },
      "execution_count": null,
      "outputs": []
    },
    {
      "cell_type": "markdown",
      "source": [
        "#Quantos suportes para bicicletas foram feitos do Canada"
      ],
      "metadata": {
        "id": "4FFWU9jLHB6C"
      }
    },
    {
      "cell_type": "code",
      "source": [
        "sales.loc[(sales['Country'] == 'Canada') & (sales['Sub_Category'] == 'Bike Racks')].shape[0]"
      ],
      "metadata": {
        "id": "7BpFfIS7HI3E"
      },
      "execution_count": null,
      "outputs": []
    },
    {
      "cell_type": "markdown",
      "source": [
        "#Quantos pedidos foram feitos em cada região da frança? (EStados)"
      ],
      "metadata": {
        "id": "iBHhBNkIHKiV"
      }
    },
    {
      "cell_type": "code",
      "source": [
        "france_states = sales.loc[sales['Country'] == 'France', 'State'].value_counts()\n",
        "\n",
        "france_states"
      ],
      "metadata": {
        "id": "k5Jb5EAZHvCB"
      },
      "execution_count": null,
      "outputs": []
    },
    {
      "cell_type": "code",
      "source": [
        "france_states.plot(kind='bar', figsize=(14,6))"
      ],
      "metadata": {
        "id": "TW5Uv1vPHyVf"
      },
      "execution_count": null,
      "outputs": []
    },
    {
      "cell_type": "markdown",
      "source": [
        "#Quantas vendas foram feitas por categoria?"
      ],
      "metadata": {
        "id": "QQ2as5GpH2pK"
      }
    },
    {
      "cell_type": "code",
      "source": [
        "sales['Product_Category'].value_counts()"
      ],
      "metadata": {
        "id": "f6_dftiGH4wb"
      },
      "execution_count": null,
      "outputs": []
    },
    {
      "cell_type": "code",
      "source": [
        "sales['Product_Category'].value_counts().plot(kind='pie', figsize=(6,6))"
      ],
      "metadata": {
        "id": "OlzxYrIgH7jt"
      },
      "execution_count": null,
      "outputs": []
    },
    {
      "cell_type": "markdown",
      "source": [
        "\n",
        "#Qual a média de Quantidade de Pedidos com mais de 10K de faturamento?"
      ],
      "metadata": {
        "id": "YlIE_yCoJBoL"
      }
    },
    {
      "cell_type": "code",
      "source": [
        "cond = sales['Revenue'] > 10_000\n",
        "\n",
        "sales.loc[cond, 'Order_Quantity'].mean()"
      ],
      "metadata": {
        "id": "YUWtHkl5JM-U"
      },
      "execution_count": null,
      "outputs": []
    },
    {
      "cell_type": "markdown",
      "source": [
        "#E a média dos menores?"
      ],
      "metadata": {
        "id": "Av9s6yekJPDi"
      }
    },
    {
      "cell_type": "code",
      "source": [
        "cond = sales['Revenue'] < 10_000\n",
        "\n",
        "sales.loc[cond, 'Order_Quantity'].mean()"
      ],
      "metadata": {
        "id": "BKb27CMdJRvl"
      },
      "execution_count": null,
      "outputs": []
    }
  ]
}